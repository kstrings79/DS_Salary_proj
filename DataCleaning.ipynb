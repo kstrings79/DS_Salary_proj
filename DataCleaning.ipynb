{
  "nbformat": 4,
  "nbformat_minor": 0,
  "metadata": {
    "colab": {
      "provenance": []
    },
    "kernelspec": {
      "name": "python3",
      "display_name": "Python 3"
    },
    "language_info": {
      "name": "python"
    }
  },
  "cells": [
    {
      "cell_type": "code",
      "execution_count": 24,
      "metadata": {
        "colab": {
          "base_uri": "https://localhost:8080/"
        },
        "id": "b-PwrM-rjr2c",
        "outputId": "27802530-9459-4d7f-e0e0-ec88909864ac"
      },
      "outputs": [
        {
          "output_type": "stream",
          "name": "stdout",
          "text": [
            "Drive already mounted at /content/drive; to attempt to forcibly remount, call drive.mount(\"/content/drive\", force_remount=True).\n"
          ]
        }
      ],
      "source": [
        "import pandas as pd\n",
        "from google.colab.data_table import DataTable\n",
        "\n",
        "# Mount Google Drive to access files if needed\n",
        "from google.colab import drive\n",
        "drive.mount('/content/drive')\n",
        "\n",
        "# Load the CSV file\n",
        "file_path = '/content/glassdoor_jobs.csv'  # Replace with your actual file path\n",
        "df = pd.read_csv(file_path)\n",
        "# Display the first few rows of the DataFrame\n",
        "#df.head(20)\n",
        "#num_rows = len(df)\n",
        "#print(f\"Number of rows: {num_rows}\")\n",
        "\n",
        "pd.set_option('display.max_rows', None)"
      ]
    },
    {
      "cell_type": "code",
      "source": [
        "#data cleaning\n",
        "\n",
        "#salary parsing\n",
        "df['hourly'] = df['Salary Estimate'] .apply(lambda x: 1 if 'per hour' in x.lower() else 0)\n",
        "df['employer_provided'] = df['Salary Estimate'].apply(lambda x: 1 if 'employer provided salary:' in x.lower() else 0)\n",
        "\n",
        "df = df[df['Salary Estimate'] != '-1']\n",
        "salary = df['Salary Estimate'].apply(lambda x: x.split('(')[0])\n",
        "\n",
        "minus_kd = salary.apply(lambda x: x.replace('K', '').replace('$',''))\n",
        "min_hr = minus_kd.apply(lambda x: x.lower().replace('per hour', '').replace('employer provided salary:', ''))\n",
        "\n",
        "df['min_salary'] = min_hr.apply(lambda x: int(x.split('-')[0]))\n",
        "df['max_salary'] = min_hr.apply(lambda x: int(x.split('-')[1]))\n",
        "\n",
        "df['avg_salary'] = (df.min_salary + df.max_salary)/2\n",
        "\n",
        "df['company_txt'] = df.apply(lambda x: x['Company Name'] if x['Rating'] < 0 else x['Company Name'][:-3], axis=1)\n",
        "\n",
        "df['job_state'] = df['Location'].apply(lambda x: x.split(',')[1])\n",
        "\n",
        "df['same_state'] = df.apply(lambda x: 1 if x.Location == x.Headquarters else 0, axis=1)\n",
        "\n",
        "df['age'] = df.Founded.apply(lambda x: x if x == -1 else 2023 - x)\n",
        "\n",
        "#job description parsing\n",
        "df['python_yn'] = df['Job Description'].apply(lambda x: 1 if 'python' in x.lower() else 0)\n",
        "df['r_studio_yn'] = df['Job Description'].apply(lambda x: 1 if 'r studio' in x.lower() else 0)\n",
        "df['spark_yn'] = df['Job Description'].apply(lambda x: 1 if 'spark' in x.lower() else 0)\n",
        "df['aws_yn'] = df['Job Description'].apply(lambda x: 1 if 'aws' in x.lower() else 0)\n",
        "df['excel_yn'] = df['Job Description'].apply(lambda x: 1 if 'excel' in x.lower() else 0)\n",
        "\n",
        "\n",
        "df_out= df.drop(['Unnamed: 0'] ,axis =1)\n",
        "df_out.to_csv('cleaned_glassdoor_jobs.csv', index=False)"
      ],
      "metadata": {
        "colab": {
          "base_uri": "https://localhost:8080/"
        },
        "id": "88nepGlTatvi",
        "outputId": "53d50c8e-d243-4892-8a3c-193da8a7f92d"
      },
      "execution_count": 25,
      "outputs": [
        {
          "output_type": "stream",
          "name": "stderr",
          "text": [
            "<ipython-input-25-454414963202>:13: SettingWithCopyWarning: \n",
            "A value is trying to be set on a copy of a slice from a DataFrame.\n",
            "Try using .loc[row_indexer,col_indexer] = value instead\n",
            "\n",
            "See the caveats in the documentation: https://pandas.pydata.org/pandas-docs/stable/user_guide/indexing.html#returning-a-view-versus-a-copy\n",
            "  df['min_salary'] = min_hr.apply(lambda x: int(x.split('-')[0]))\n",
            "<ipython-input-25-454414963202>:14: SettingWithCopyWarning: \n",
            "A value is trying to be set on a copy of a slice from a DataFrame.\n",
            "Try using .loc[row_indexer,col_indexer] = value instead\n",
            "\n",
            "See the caveats in the documentation: https://pandas.pydata.org/pandas-docs/stable/user_guide/indexing.html#returning-a-view-versus-a-copy\n",
            "  df['max_salary'] = min_hr.apply(lambda x: int(x.split('-')[1]))\n",
            "<ipython-input-25-454414963202>:16: SettingWithCopyWarning: \n",
            "A value is trying to be set on a copy of a slice from a DataFrame.\n",
            "Try using .loc[row_indexer,col_indexer] = value instead\n",
            "\n",
            "See the caveats in the documentation: https://pandas.pydata.org/pandas-docs/stable/user_guide/indexing.html#returning-a-view-versus-a-copy\n",
            "  df['avg_salary'] = (df.min_salary + df.max_salary)/2\n",
            "<ipython-input-25-454414963202>:18: SettingWithCopyWarning: \n",
            "A value is trying to be set on a copy of a slice from a DataFrame.\n",
            "Try using .loc[row_indexer,col_indexer] = value instead\n",
            "\n",
            "See the caveats in the documentation: https://pandas.pydata.org/pandas-docs/stable/user_guide/indexing.html#returning-a-view-versus-a-copy\n",
            "  df['company_txt'] = df.apply(lambda x: x['Company Name'] if x['Rating'] < 0 else x['Company Name'][:-3], axis=1)\n",
            "<ipython-input-25-454414963202>:20: SettingWithCopyWarning: \n",
            "A value is trying to be set on a copy of a slice from a DataFrame.\n",
            "Try using .loc[row_indexer,col_indexer] = value instead\n",
            "\n",
            "See the caveats in the documentation: https://pandas.pydata.org/pandas-docs/stable/user_guide/indexing.html#returning-a-view-versus-a-copy\n",
            "  df['job_state'] = df['Location'].apply(lambda x: x.split(',')[1])\n",
            "<ipython-input-25-454414963202>:22: SettingWithCopyWarning: \n",
            "A value is trying to be set on a copy of a slice from a DataFrame.\n",
            "Try using .loc[row_indexer,col_indexer] = value instead\n",
            "\n",
            "See the caveats in the documentation: https://pandas.pydata.org/pandas-docs/stable/user_guide/indexing.html#returning-a-view-versus-a-copy\n",
            "  df['same_state'] = df.apply(lambda x: 1 if x.Location == x.Headquarters else 0, axis=1)\n",
            "<ipython-input-25-454414963202>:24: SettingWithCopyWarning: \n",
            "A value is trying to be set on a copy of a slice from a DataFrame.\n",
            "Try using .loc[row_indexer,col_indexer] = value instead\n",
            "\n",
            "See the caveats in the documentation: https://pandas.pydata.org/pandas-docs/stable/user_guide/indexing.html#returning-a-view-versus-a-copy\n",
            "  df['age'] = df.Founded.apply(lambda x: x if x == -1 else 2023 - x)\n",
            "<ipython-input-25-454414963202>:27: SettingWithCopyWarning: \n",
            "A value is trying to be set on a copy of a slice from a DataFrame.\n",
            "Try using .loc[row_indexer,col_indexer] = value instead\n",
            "\n",
            "See the caveats in the documentation: https://pandas.pydata.org/pandas-docs/stable/user_guide/indexing.html#returning-a-view-versus-a-copy\n",
            "  df['python_yn'] = df['Job Description'].apply(lambda x: 1 if 'python' in x.lower() else 0)\n",
            "<ipython-input-25-454414963202>:28: SettingWithCopyWarning: \n",
            "A value is trying to be set on a copy of a slice from a DataFrame.\n",
            "Try using .loc[row_indexer,col_indexer] = value instead\n",
            "\n",
            "See the caveats in the documentation: https://pandas.pydata.org/pandas-docs/stable/user_guide/indexing.html#returning-a-view-versus-a-copy\n",
            "  df['r_studio_yn'] = df['Job Description'].apply(lambda x: 1 if 'r studio' in x.lower() else 0)\n"
          ]
        }
      ]
    },
    {
      "cell_type": "code",
      "source": [
        "print(df['python_yn'].value_counts())\n",
        "print(df['r_studio_yn'].value_counts())\n",
        "print(df['spark_yn'].value_counts())\n",
        "print(df['aws_yn'].value_counts())\n",
        "print(df['excel_yn'].value_counts())"
      ],
      "metadata": {
        "colab": {
          "base_uri": "https://localhost:8080/"
        },
        "id": "vlTuj_LHnBVF",
        "outputId": "57e53dcb-a543-4f81-8aa1-3960cf0f4dee"
      },
      "execution_count": 19,
      "outputs": [
        {
          "output_type": "stream",
          "name": "stdout",
          "text": [
            "python_yn\n",
            "1    392\n",
            "0    350\n",
            "Name: count, dtype: int64\n",
            "r_studio_yn\n",
            "0    741\n",
            "1      1\n",
            "Name: count, dtype: int64\n",
            "spark_yn\n",
            "0    575\n",
            "1    167\n",
            "Name: count, dtype: int64\n",
            "aws_yn\n",
            "0    566\n",
            "1    176\n",
            "Name: count, dtype: int64\n",
            "excel_yn\n",
            "1    388\n",
            "0    354\n",
            "Name: count, dtype: int64\n"
          ]
        }
      ]
    },
    {
      "cell_type": "code",
      "source": [
        "print(df.columns)\n",
        "print(df_out.columns)"
      ],
      "metadata": {
        "colab": {
          "base_uri": "https://localhost:8080/"
        },
        "id": "PcXsS3dZT7gN",
        "outputId": "65cac87a-59d3-48ec-b373-bb714c0d1779"
      },
      "execution_count": 21,
      "outputs": [
        {
          "output_type": "stream",
          "name": "stdout",
          "text": [
            "Index(['Unnamed: 0', 'Job Title', 'Salary Estimate', 'Job Description',\n",
            "       'Rating', 'Company Name', 'Location', 'Headquarters', 'Size', 'Founded',\n",
            "       'Type of ownership', 'Industry', 'Sector', 'Revenue', 'Competitors',\n",
            "       'hourly', 'employer_provided', 'min_salary', 'max_salary', 'avg_salary',\n",
            "       'company_txt', 'job_state', 'same_state', 'age', 'python_yn',\n",
            "       'r_studio_yn', 'spark_yn', 'aws_yn', 'excel_yn'],\n",
            "      dtype='object')\n",
            "Index(['Job Title', 'Salary Estimate', 'Job Description', 'Rating',\n",
            "       'Company Name', 'Location', 'Headquarters', 'Size', 'Founded',\n",
            "       'Type of ownership', 'Industry', 'Sector', 'Revenue', 'Competitors',\n",
            "       'hourly', 'employer_provided', 'min_salary', 'max_salary', 'avg_salary',\n",
            "       'company_txt', 'job_state', 'same_state', 'age', 'python_yn',\n",
            "       'r_studio_yn', 'spark_yn', 'aws_yn', 'excel_yn'],\n",
            "      dtype='object')\n"
          ]
        }
      ]
    }
  ]
}
